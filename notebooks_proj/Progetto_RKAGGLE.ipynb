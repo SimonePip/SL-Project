{
  "nbformat": 4,
  "nbformat_minor": 0,
  "metadata": {
    "colab": {
      "name": "Progetto_R.ipynb",
      "provenance": []
    },
    "kernelspec": {
      "name": "python3",
      "display_name": "Python 3"
    },
    "language_info": {
      "name": "python"
    }
  },
  "cells": [
    {
      "cell_type": "markdown",
      "source": [
        "# Imports"
      ],
      "metadata": {
        "id": "d_veeJ32BrfR"
      }
    },
    {
      "cell_type": "code",
      "execution_count": 147,
      "metadata": {
        "id": "zxRpUUr-BnaJ"
      },
      "outputs": [],
      "source": [
        "import pandas as pd\n",
        "import numpy as np\n",
        "import matplotlib.pyplot as plt\n",
        "from sklearn.preprocessing import MinMaxScaler\n",
        "import math\n",
        "from datetime import datetime\n",
        "from datetime import timedelta\n",
        "from sklearn.model_selection import train_test_split"
      ]
    },
    {
      "cell_type": "markdown",
      "source": [
        "# Data\n",
        "\n"
      ],
      "metadata": {
        "id": "s9Lk7tXbB_Vf"
      }
    },
    {
      "cell_type": "code",
      "source": [
        "data = pd.read_csv('/content/dataset_completo.csv', header ='infer').iloc[:,1:]\n"
      ],
      "metadata": {
        "id": "4TPaksx6CCw2"
      },
      "execution_count": 148,
      "outputs": []
    },
    {
      "cell_type": "markdown",
      "source": [
        "# Classification Model"
      ],
      "metadata": {
        "id": "1SjeiTzLDz3J"
      }
    },
    {
      "cell_type": "markdown",
      "source": [
        "### Train Test Splitting"
      ],
      "metadata": {
        "id": "nk6Vu9B8FKUC"
      }
    },
    {
      "cell_type": "code",
      "source": [
        "from sklearn import model_selection\n",
        "from sklearn.preprocessing import LabelEncoder\n"
      ],
      "metadata": {
        "id": "zPpV61yRFRd2"
      },
      "execution_count": 149,
      "outputs": []
    },
    {
      "cell_type": "code",
      "source": [
        "data.columns"
      ],
      "metadata": {
        "colab": {
          "base_uri": "https://localhost:8080/"
        },
        "id": "KAXqkuGSRo6C",
        "outputId": "a43f65dd-42dd-4825-810a-8a25c90118cd"
      },
      "execution_count": 150,
      "outputs": [
        {
          "output_type": "execute_result",
          "data": {
            "text/plain": [
              "Index(['titolo', 'durata', 'views', 'n_comments', 'n_like', 'genere', 'publ',\n",
              "       'max_quality', 'score', 'timedelta', 'class'],\n",
              "      dtype='object')"
            ]
          },
          "metadata": {},
          "execution_count": 150
        }
      ]
    },
    {
      "cell_type": "code",
      "source": [
        "Y = data['class'] # Extract the target feature"
      ],
      "metadata": {
        "id": "Vh8Mxd3IFn3-"
      },
      "execution_count": 151,
      "outputs": []
    },
    {
      "cell_type": "code",
      "source": [
        "X = data.drop(columns = ['class','score','publ','titolo']) # Remove from the data useful to the analysis: \"score, publ, titolo, class\""
      ],
      "metadata": {
        "id": "TjwRGC1LF_yM"
      },
      "execution_count": 152,
      "outputs": []
    },
    {
      "cell_type": "code",
      "source": [
        "le = LabelEncoder()\n",
        "le.fit(X['genere'])\n",
        "X['genere'] = le.transform(X['genere']) # Transform the Categorical genere feature in a numerical feature"
      ],
      "metadata": {
        "id": "4kcZ6zbkM71k"
      },
      "execution_count": 153,
      "outputs": []
    },
    {
      "cell_type": "code",
      "source": [
        "X_train,X_test,y_train,y_test = train_test_split(X,Y, train_size=.8, random_state=42) # Split dataset in train and test"
      ],
      "metadata": {
        "id": "5xfQwZB6GN5C"
      },
      "execution_count": 155,
      "outputs": []
    },
    {
      "cell_type": "code",
      "source": [
        "X_train,X_val,y_train,y_val = train_test_split(X_train,y_train, train_size = .8, random_state = 42) # Split train in train and validation"
      ],
      "metadata": {
        "id": "NnylF4nyHP05"
      },
      "execution_count": 156,
      "outputs": []
    },
    {
      "cell_type": "markdown",
      "source": [
        "### Excursus"
      ],
      "metadata": {
        "id": "McL-rf4EIETM"
      }
    },
    {
      "cell_type": "markdown",
      "source": [
        "We want to predict the class of a given video. The classes were defined using a home-made score.\n",
        "\n",
        "To predict we will try different models.\n",
        "Let's start with SVM"
      ],
      "metadata": {
        "id": "EfJ_pNuoIggO"
      }
    },
    {
      "cell_type": "markdown",
      "source": [
        "### SVC"
      ],
      "metadata": {
        "id": "sihcOc9uI77Y"
      }
    },
    {
      "cell_type": "code",
      "source": [
        "from sklearn.svm import SVC\n",
        "from sklearn.preprocessing import StandardScaler\n",
        "from sklearn.pipeline import make_pipeline\n",
        "from sklearn.metrics import f1_score"
      ],
      "metadata": {
        "id": "Nf67Y6igJRo7"
      },
      "execution_count": 157,
      "outputs": []
    },
    {
      "cell_type": "markdown",
      "source": [
        "REMINDER OF THE PARAMETERS\n",
        "\n",
        "\n",
        "C=1.0, kernel='rbf', degree=3, gamma='scale', coef0=0.0, shrinking=True, probability=False, tol=0.001, cache_size=200, class_weight=None, verbose=False, max_iter=- 1, decision_function_shape='ovr', break_ties=False, random_state=None"
      ],
      "metadata": {
        "id": "sxSP1WkcJzIn"
      }
    },
    {
      "cell_type": "markdown",
      "source": [
        "Try to use SVC without scaling data"
      ],
      "metadata": {
        "id": "jOwe20T2JYWN"
      }
    },
    {
      "cell_type": "code",
      "source": [
        "clf = SVC(gamma = 'auto', random_state = 42)\n",
        "clf.fit(X_train,y_train)\n",
        "y_pred = clf.predict(X_val)\n",
        "print(f1_score(y_val, y_pred, average = 'macro'))"
      ],
      "metadata": {
        "colab": {
          "base_uri": "https://localhost:8080/"
        },
        "id": "sT1V1xqOMskK",
        "outputId": "d81d3c1e-2765-47f5-ea02-3ba82ae68a3d"
      },
      "execution_count": 165,
      "outputs": [
        {
          "output_type": "stream",
          "name": "stdout",
          "text": [
            "f1-score using SVC without scaling data:  0.16061185468451242\n"
          ]
        }
      ]
    },
    {
      "cell_type": "markdown",
      "source": [
        "Try to use SVC with Standard Scaler"
      ],
      "metadata": {
        "id": "vbBrjFoJUAIv"
      }
    },
    {
      "cell_type": "code",
      "source": [
        "clf = make_pipeline(StandardScaler(), SVC(gamma='auto',random_state = 42))\n",
        "clf.fit(X_train,y_train)\n",
        "y_pred = clf.predict(X_val)\n",
        "print(f1_score(y_val, y_pred, average = 'macro'))"
      ],
      "metadata": {
        "colab": {
          "base_uri": "https://localhost:8080/"
        },
        "id": "GOLK38YuUIO0",
        "outputId": "5e42c141-5d75-487d-cf12-62154784483d"
      },
      "execution_count": 167,
      "outputs": [
        {
          "output_type": "stream",
          "name": "stdout",
          "text": [
            "f1-score using SVC without scaling data:  0.8075326343334872\n"
          ]
        }
      ]
    },
    {
      "cell_type": "markdown",
      "source": [
        "Try to use SVC with MinMaxScaler"
      ],
      "metadata": {
        "id": "MKoLo8RcUuK8"
      }
    },
    {
      "cell_type": "code",
      "source": [
        "clf = make_pipeline(MinMaxScaler(), SVC(gamma='auto',random_state = 42))\n",
        "clf.fit(X_train,y_train)\n",
        "y_pred = clf.predict(X_val)\n",
        "print(f1_score(y_val, y_pred, average = 'macro'))"
      ],
      "metadata": {
        "colab": {
          "base_uri": "https://localhost:8080/"
        },
        "id": "6R5IQpLSU1f0",
        "outputId": "618acf6f-65ca-457b-a5fe-f0450fc43bbb"
      },
      "execution_count": 168,
      "outputs": [
        {
          "output_type": "stream",
          "name": "stdout",
          "text": [
            "f1-score using SVC without scaling data:  0.5932135459307548\n"
          ]
        }
      ]
    },
    {
      "cell_type": "markdown",
      "source": [
        "Try to use SVC with MinMaxScaler and Standard Scaler (in that order)"
      ],
      "metadata": {
        "id": "r4nb9eD-VBc_"
      }
    },
    {
      "cell_type": "code",
      "source": [
        "clf = make_pipeline(MinMaxScaler(),StandardScaler(), SVC(gamma='auto',random_state = 42))\n",
        "clf.fit(X_train,y_train)\n",
        "y_pred = clf.predict(X_val)\n",
        "print(f1_score(y_val, y_pred, average = 'macro'))"
      ],
      "metadata": {
        "colab": {
          "base_uri": "https://localhost:8080/"
        },
        "id": "h-zC-ZjtVKW0",
        "outputId": "fb50c2aa-3bc6-4266-b11c-d5bc2b1c4250"
      },
      "execution_count": 169,
      "outputs": [
        {
          "output_type": "stream",
          "name": "stdout",
          "text": [
            "f1-score using SVC without scaling data:  0.8075326343334872\n"
          ]
        }
      ]
    },
    {
      "cell_type": "markdown",
      "source": [
        "Try to use SVC with Standard Scaler and MinMaxScaler (in that order)"
      ],
      "metadata": {
        "id": "OSCZ8ep5VZmm"
      }
    },
    {
      "cell_type": "code",
      "source": [
        "clf = make_pipeline(StandardScaler(),MinMaxScaler(), SVC(gamma='auto',random_state = 42))\n",
        "clf.fit(X_train,y_train)\n",
        "y_pred = clf.predict(X_val)\n",
        "print(f1_score(y_val, y_pred, average = 'macro'))"
      ],
      "metadata": {
        "colab": {
          "base_uri": "https://localhost:8080/"
        },
        "id": "GXpKohSrVhH_",
        "outputId": "b1cc0eb0-10ed-4ebd-e7be-08217907a407"
      },
      "execution_count": 170,
      "outputs": [
        {
          "output_type": "stream",
          "name": "stdout",
          "text": [
            "f1-score using SVC without scaling data:  0.5932135459307548\n"
          ]
        }
      ]
    },
    {
      "cell_type": "markdown",
      "source": [
        "Same Results as One Scaler.\n",
        "\n",
        "\n",
        "Best Results without Scaling."
      ],
      "metadata": {
        "id": "1JzDW9SRVpeJ"
      }
    },
    {
      "cell_type": "code",
      "source": [
        "from sklearn.model_selection import GridSearchCV"
      ],
      "metadata": {
        "id": "5L6gQzt-XzJL"
      },
      "execution_count": 172,
      "outputs": []
    },
    {
      "cell_type": "code",
      "source": [
        "\n",
        "svc = SVC()\n",
        "\n",
        "#def gridsearch\n",
        "params = {\n",
        "    'kernel' : ('poly', 'rbf', 'sigmoid'),\n",
        "    'C' : np.linspace(1, 100, num=5), \n",
        "    #'degree' : [3,5,8],\n",
        "    #'gamma' : ('auto','scale')\n",
        "    \n",
        "}\n",
        "\n",
        "search = GridSearchCV(svc,param_grid=params,scoring='f1_macro',\n",
        "                                  n_jobs=-1,refit=True,verbose=10, pre_dispatch='10*n_jobs',\n",
        "                                  return_train_score=True)\n",
        "search.fit(X_train,y_train)"
      ],
      "metadata": {
        "colab": {
          "base_uri": "https://localhost:8080/"
        },
        "id": "QUL7jdepWgXj",
        "outputId": "8b1e9ee6-3af7-487f-f941-0437878d52a7"
      },
      "execution_count": null,
      "outputs": [
        {
          "output_type": "stream",
          "name": "stdout",
          "text": [
            "Fitting 5 folds for each of 15 candidates, totalling 75 fits\n"
          ]
        }
      ]
    },
    {
      "cell_type": "code",
      "source": [
        "best_one=search.best_estimator_\n",
        "y_pred = best_one.predict(X_val)\n"
      ],
      "metadata": {
        "id": "5rYVhLC7aiLn"
      },
      "execution_count": null,
      "outputs": []
    },
    {
      "cell_type": "code",
      "source": [
        "f1_score(y_val, y_pred, average = 'macro')"
      ],
      "metadata": {
        "id": "UUMPjA_rawaJ"
      },
      "execution_count": null,
      "outputs": []
    },
    {
      "cell_type": "markdown",
      "source": [
        "### RANDOM FOREST"
      ],
      "metadata": {
        "id": "PGUfbcicdG2b"
      }
    },
    {
      "cell_type": "code",
      "source": [
        "from sklearn.ensemble import RandomForestClassifier as RFC"
      ],
      "metadata": {
        "id": "w9jsJjJCczXZ"
      },
      "execution_count": null,
      "outputs": []
    },
    {
      "cell_type": "code",
      "source": [
        "clf = RFC(random_state = 42)\n",
        "clf.fit(X_train,y_train)\n",
        "y_pred = clf.predict(X_val)\n",
        "print('f1-score using Random Forest without scaling data: ',f1_score(y_val, y_pred, average = 'macro'))"
      ],
      "metadata": {
        "id": "OwUC3P8tc41w"
      },
      "execution_count": null,
      "outputs": []
    },
    {
      "cell_type": "code",
      "source": [
        "clf = make_pipeline(MinMaxScaler(), RFC(random_state = 42))\n",
        "clf.fit(X_train,y_train)\n",
        "y_pred = clf.predict(X_val)\n",
        "print(f1_score(y_val, y_pred, average = 'macro'))"
      ],
      "metadata": {
        "id": "mKM5dKSUc9lt"
      },
      "execution_count": null,
      "outputs": []
    },
    {
      "cell_type": "code",
      "source": [
        "clf = make_pipeline(StandardScaler(), RFC(random_state = 42))\n",
        "clf.fit(X_train,y_train)\n",
        "y_pred = clf.predict(X_val)\n",
        "print(f1_score(y_val, y_pred, average = 'macro'))"
      ],
      "metadata": {
        "id": "mkR3VGIcdATZ"
      },
      "execution_count": null,
      "outputs": []
    },
    {
      "cell_type": "code",
      "source": [
        "clf = make_pipeline(MinMaxScaler(), RFC(random_state = 42, n_jobs = -1))\n",
        "\n",
        "#def gridsearch\n",
        "params = {'randomforestclassifier__criterion' : ['gini','entropy'],\n",
        "          'randomforestclassifier__max_features' : [None],\n",
        "          'randomforestclassifier__n_estimators' : [50,100,200]\n",
        "          \n",
        "    \n",
        "    \n",
        "}\n",
        "\n",
        "search = GridSearchCV(clf,param_grid=params,scoring='f1_macro',\n",
        "                                  n_jobs=-1,refit=True,verbose=10, pre_dispatch='10*n_jobs',\n",
        "                                  return_train_score=True)\n",
        "search.fit(X_train,y_train)"
      ],
      "metadata": {
        "id": "SSoHJ33mdEgY"
      },
      "execution_count": null,
      "outputs": []
    },
    {
      "cell_type": "code",
      "source": [
        "best_one=search.best_estimator_\n",
        "y_pred = best_one.predict(X_val)\n"
      ],
      "metadata": {
        "id": "0Xb7hb4jdUF8"
      },
      "execution_count": null,
      "outputs": []
    },
    {
      "cell_type": "code",
      "source": [
        "f1_score(y_val, y_pred, average = 'macro')"
      ],
      "metadata": {
        "id": "ghV7IJqudY3X"
      },
      "execution_count": null,
      "outputs": []
    }
  ]
}