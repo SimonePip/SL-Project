{
 "cells": [
  {
   "cell_type": "code",
   "execution_count": 56,
   "id": "a38435ce-fab5-49e4-a820-de9fb4db1f34",
   "metadata": {},
   "outputs": [],
   "source": [
    "import tensorflow as tf\n",
    "import numpy as np\n",
    "import pandas as pd\n",
    "from tqdm import tqdm\n",
    "#retrieve links\n",
    "import requests\n",
    "import warnings\n",
    "warnings.filterwarnings(\"ignore\")\n",
    "import time\n",
    "from pathlib import Path"
   ]
  },
  {
   "cell_type": "code",
   "execution_count": 57,
   "id": "4164dd9f-a753-43fb-b80e-293a0789fa6d",
   "metadata": {},
   "outputs": [],
   "source": [
    "folder = Path(\"./raw\")\n",
    "files = (folder.glob(\"*.tfrecord\"))"
   ]
  },
  {
   "cell_type": "code",
   "execution_count": 58,
   "id": "cad1651c-982b-4447-bbd4-227ae06fc9a7",
   "metadata": {},
   "outputs": [],
   "source": [
    "filenames=[]\n",
    "for file in files:\n",
    "    filenames.append(str(file))"
   ]
  },
  {
   "cell_type": "code",
   "execution_count": 59,
   "id": "c4f2aed9-b0fe-4afe-98c2-9922a88240d3",
   "metadata": {},
   "outputs": [
    {
     "data": {
      "text/plain": [
       "['raw\\\\train5T.tfrecord',\n",
       " 'raw\\\\trainbx.tfrecord',\n",
       " 'raw\\\\trainDH.tfrecord',\n",
       " 'raw\\\\traineP.tfrecord',\n",
       " 'raw\\\\traingW.tfrecord',\n",
       " 'raw\\\\trainlE.tfrecord',\n",
       " 'raw\\\\trainmQ.tfrecord',\n",
       " 'raw\\\\trainPJ.tfrecord',\n",
       " 'raw\\\\trainve.tfrecord',\n",
       " 'raw\\\\trainz2.tfrecord']"
      ]
     },
     "execution_count": 59,
     "metadata": {},
     "output_type": "execute_result"
    }
   ],
   "source": [
    "filenames"
   ]
  },
  {
   "cell_type": "code",
   "execution_count": 60,
   "id": "c8f64e5e-41f4-43bc-8d59-8789f37e0265",
   "metadata": {},
   "outputs": [],
   "source": [
    "raw_dataset = tf.data.TFRecordDataset(filenames)"
   ]
  },
  {
   "cell_type": "code",
   "execution_count": 61,
   "id": "0ffce556-ffda-43d1-8e4b-34e58b4c63da",
   "metadata": {},
   "outputs": [],
   "source": [
    "feature_description = {\n",
    "    'id': tf.io.FixedLenFeature([], tf.string, default_value='')\n",
    "}"
   ]
  },
  {
   "cell_type": "code",
   "execution_count": 62,
   "id": "dea3a486-98e3-4ea6-aa06-79fad25af1f5",
   "metadata": {},
   "outputs": [
    {
     "data": {
      "text/plain": [
       "<MapDataset shapes: {id: ()}, types: {id: tf.string}>"
      ]
     },
     "execution_count": 62,
     "metadata": {},
     "output_type": "execute_result"
    }
   ],
   "source": [
    "def _parse_function(example_proto):\n",
    "  # Parse the input `tf.train.Example` proto using the dictionary above.\n",
    "  return tf.io.parse_single_example(example_proto, feature_description)\n",
    "\n",
    "\n",
    "parsed_dataset = raw_dataset.map(_parse_function)\n",
    "parsed_dataset"
   ]
  },
  {
   "cell_type": "code",
   "execution_count": 63,
   "id": "e88c7cc5-30fa-429c-a978-5f05ae9ddd6e",
   "metadata": {
    "tags": []
   },
   "outputs": [],
   "source": [
    "lista=[]\n",
    "for parsed_record in parsed_dataset.take(-1):\n",
    "    lista.append(repr(parsed_record['id'])[-6:-2])"
   ]
  },
  {
   "cell_type": "code",
   "execution_count": 65,
   "id": "0f7edc6f-967e-4827-8369-056299c0fd1f",
   "metadata": {},
   "outputs": [
    {
     "data": {
      "text/plain": [
       "10123"
      ]
     },
     "execution_count": 65,
     "metadata": {},
     "output_type": "execute_result"
    }
   ],
   "source": [
    "len(lista)"
   ]
  },
  {
   "cell_type": "code",
   "execution_count": 66,
   "id": "851bce35-4bbe-4cb5-81ad-823e80d012b4",
   "metadata": {},
   "outputs": [],
   "source": [
    "skippati=[]"
   ]
  },
  {
   "cell_type": "code",
   "execution_count": 68,
   "id": "e2f39d20-108a-41be-8791-66f3f4796f15",
   "metadata": {
    "tags": []
   },
   "outputs": [
    {
     "name": "stderr",
     "output_type": "stream",
     "text": [
      "100%|██████████████████████████████████████████████████████████████████████████| 10123/10123 [1:13:12<00:00,  2.30it/s]"
     ]
    },
    {
     "name": "stdout",
     "output_type": "stream",
     "text": [
      "#skipped videos: 1008\n"
     ]
    },
    {
     "name": "stderr",
     "output_type": "stream",
     "text": [
      "\n"
     ]
    }
   ],
   "source": [
    "f=open('linksfin.txt','w')\n",
    "for ID in tqdm(lista):\n",
    "    url = ('https://data.yt8m.org/2/j/i/{}/{}.js').format(ID[:2],ID)\n",
    "    session = requests.Session()\n",
    "    session.trust_env = False\n",
    "    headers = {\"User-Agent\": \"Mozilla/5.0 (X11; CrOS x86_64 12871.102.0) AppleWebKit/537.36 (KHTML, like Gecko) Chrome/81.0.4044.141 Safari/537.36\"}\n",
    "    \n",
    "    try:\n",
    "        check = session.get(url, verify=False, stream=True, headers=headers, timeout=10)\n",
    "    except requests.exceptions.RequestException as e:\n",
    "        skippati.append(url)\n",
    "        continue\n",
    "    #if check.status_code!=200:\n",
    "    #    print(url, check.status_code)\n",
    " \n",
    "    if check.status_code==403:\n",
    "        skippati.append(url)\n",
    "        continue\n",
    "    a=(check.content)[1:-1]\n",
    "    ending=(a.decode()).split(',')[1][1:-2]\n",
    "    f.write(('https://www.youtube.com/watch?v={}\\n').format(ending))\n",
    "    #time.sleep(1)\n",
    "f.close()\n",
    "print(('#skipped videos: {}').format(len(skippati)))"
   ]
  }
 ],
 "metadata": {
  "kernelspec": {
   "display_name": "tflow",
   "language": "python",
   "name": "tflow"
  },
  "language_info": {
   "codemirror_mode": {
    "name": "ipython",
    "version": 3
   },
   "file_extension": ".py",
   "mimetype": "text/x-python",
   "name": "python",
   "nbconvert_exporter": "python",
   "pygments_lexer": "ipython3",
   "version": "3.8.13"
  }
 },
 "nbformat": 4,
 "nbformat_minor": 5
}
