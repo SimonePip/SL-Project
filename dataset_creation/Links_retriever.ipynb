{
 "cells": [
  {
   "cell_type": "code",
   "execution_count": 1,
   "id": "a38435ce-fab5-49e4-a820-de9fb4db1f34",
   "metadata": {},
   "outputs": [],
   "source": [
    "import tensorflow as tf\n",
    "import numpy as np\n",
    "import pandas as pd\n",
    "from tqdm import tqdm\n",
    "#retrieve links\n",
    "import requests\n",
    "import warnings\n",
    "warnings.filterwarnings(\"ignore\")\n",
    "import time\n",
    "from pathlib import Path"
   ]
  },
  {
   "cell_type": "code",
   "execution_count": 2,
   "id": "4164dd9f-a753-43fb-b80e-293a0789fa6d",
   "metadata": {},
   "outputs": [],
   "source": [
    "folder = Path(\"\")\n",
    "files = (folder.glob(\"*.tfrecord\"))"
   ]
  },
  {
   "cell_type": "code",
   "execution_count": 3,
   "id": "cad1651c-982b-4447-bbd4-227ae06fc9a7",
   "metadata": {},
   "outputs": [],
   "source": [
    "filenames=[]\n",
    "for file in files:\n",
    "    filenames.append(str(file))"
   ]
  },
  {
   "cell_type": "code",
   "execution_count": 4,
   "id": "c8f64e5e-41f4-43bc-8d59-8789f37e0265",
   "metadata": {},
   "outputs": [
    {
     "name": "stderr",
     "output_type": "stream",
     "text": [
      "2022-07-15 10:37:48.974582: I tensorflow/compiler/jit/xla_cpu_device.cc:41] Not creating XLA devices, tf_xla_enable_xla_devices not set\n",
      "2022-07-15 10:37:48.974947: I tensorflow/core/platform/cpu_feature_guard.cc:142] This TensorFlow binary is optimized with oneAPI Deep Neural Network Library (oneDNN) to use the following CPU instructions in performance-critical operations:  SSE4.1 SSE4.2 AVX AVX2 FMA\n",
      "To enable them in other operations, rebuild TensorFlow with the appropriate compiler flags.\n",
      "2022-07-15 10:37:48.976547: I tensorflow/core/common_runtime/process_util.cc:146] Creating new thread pool with default inter op setting: 2. Tune using inter_op_parallelism_threads for best performance.\n"
     ]
    }
   ],
   "source": [
    "raw_dataset = tf.data.TFRecordDataset(filenames)"
   ]
  },
  {
   "cell_type": "code",
   "execution_count": 5,
   "id": "0ffce556-ffda-43d1-8e4b-34e58b4c63da",
   "metadata": {},
   "outputs": [],
   "source": [
    "feature_description = {\n",
    "    'id': tf.io.FixedLenFeature([], tf.string, default_value='')\n",
    "}"
   ]
  },
  {
   "cell_type": "code",
   "execution_count": 6,
   "id": "dea3a486-98e3-4ea6-aa06-79fad25af1f5",
   "metadata": {},
   "outputs": [
    {
     "data": {
      "text/plain": [
       "<MapDataset shapes: {id: ()}, types: {id: tf.string}>"
      ]
     },
     "execution_count": 6,
     "metadata": {},
     "output_type": "execute_result"
    }
   ],
   "source": [
    "def _parse_function(example_proto):\n",
    "  # Parse the input `tf.train.Example` proto using the dictionary above.\n",
    "  return tf.io.parse_single_example(example_proto, feature_description)\n",
    "\n",
    "\n",
    "parsed_dataset = raw_dataset.map(_parse_function)\n",
    "parsed_dataset"
   ]
  },
  {
   "cell_type": "code",
   "execution_count": 7,
   "id": "e88c7cc5-30fa-429c-a978-5f05ae9ddd6e",
   "metadata": {
    "tags": []
   },
   "outputs": [
    {
     "name": "stderr",
     "output_type": "stream",
     "text": [
      "2022-07-15 10:37:49.046773: I tensorflow/compiler/mlir/mlir_graph_optimization_pass.cc:116] None of the MLIR optimization passes are enabled (registered 2)\n",
      "2022-07-15 10:37:49.047059: I tensorflow/core/platform/profile_utils/cpu_utils.cc:112] CPU Frequency: 2894530000 Hz\n"
     ]
    }
   ],
   "source": [
    "lista=[]\n",
    "for parsed_record in parsed_dataset.take(-1):\n",
    "    lista.append(repr(parsed_record['id'])[-6:-2])"
   ]
  },
  {
   "cell_type": "code",
   "execution_count": 22,
   "id": "851bce35-4bbe-4cb5-81ad-823e80d012b4",
   "metadata": {},
   "outputs": [],
   "source": [
    "skippati=[]"
   ]
  },
  {
   "cell_type": "code",
   "execution_count": 23,
   "id": "e2f39d20-108a-41be-8791-66f3f4796f15",
   "metadata": {
    "tags": []
   },
   "outputs": [
    {
     "name": "stderr",
     "output_type": "stream",
     "text": [
      "100%|███████████████████████████████████████| 1038/1038 [38:28<00:00,  2.22s/it]"
     ]
    },
    {
     "name": "stdout",
     "output_type": "stream",
     "text": [
      "#skipped videos: 104\n"
     ]
    },
    {
     "name": "stderr",
     "output_type": "stream",
     "text": [
      "\n"
     ]
    }
   ],
   "source": [
    "f=open('links5.txt','w')\n",
    "for ID in tqdm(lista[4000:]):\n",
    "    url = ('https://data.yt8m.org/2/j/i/{}/{}.js').format(ID[:2],ID)\n",
    "    session = requests.Session()\n",
    "    session.trust_env = False\n",
    "    headers = {\"User-Agent\": \"Mozilla/5.0 (X11; CrOS x86_64 12871.102.0) AppleWebKit/537.36 (KHTML, like Gecko) Chrome/81.0.4044.141 Safari/537.36\"}\n",
    "    \n",
    "    try:\n",
    "        check = session.get(url, verify=False, stream=True, headers=headers, timeout=5)\n",
    "    except requests.exceptions.RequestException as e:\n",
    "        skippati.append(url)\n",
    "        continue\n",
    "    #if check.status_code!=200:\n",
    "    #    print(url, check.status_code)\n",
    "    '''\n",
    "    while(check.status_code != 200): #Stop while we can't download\n",
    "        check = session.get(url, verify=False, stream=True, headers=headers, timeout=5)    #update the request to connect to the page until\n",
    "        print(check.status_code)                   #we manage to connect\n",
    "        if check.status_code==403:\n",
    "            break\n",
    "    '''\n",
    "    if check.status_code==403:\n",
    "        skippati.append(url)\n",
    "        continue\n",
    "    a=(check.content)[1:-1]\n",
    "    ending=(a.decode()).split(',')[1][1:-2]\n",
    "    f.write(('https://www.youtube.com/watch?v={}\\n').format(ending))\n",
    "    #time.sleep(1)\n",
    "f.close()\n",
    "print(('#skipped videos: {}').format(len(skippati)))"
   ]
  },
  {
   "cell_type": "code",
   "execution_count": null,
   "id": "78fda416-bb37-4b3f-a721-c6231a789c33",
   "metadata": {},
   "outputs": [],
   "source": [
    "#links1 saltati 113\n",
    "#links2 saltati 114\n",
    "#links3 saltati 100\n",
    "#links4 saltati 97\n",
    "#links5 saltati 104"
   ]
  }
 ],
 "metadata": {
  "kernelspec": {
   "display_name": "Python 3 (ipykernel)",
   "language": "python",
   "name": "python3"
  },
  "language_info": {
   "codemirror_mode": {
    "name": "ipython",
    "version": 3
   },
   "file_extension": ".py",
   "mimetype": "text/x-python",
   "name": "python",
   "nbconvert_exporter": "python",
   "pygments_lexer": "ipython3",
   "version": "3.9.12"
  }
 },
 "nbformat": 4,
 "nbformat_minor": 5
}
