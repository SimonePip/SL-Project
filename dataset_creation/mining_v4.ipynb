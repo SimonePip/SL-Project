{
 "cells": [
  {
   "cell_type": "code",
   "execution_count": 1,
   "id": "20a90a4c-843a-44e4-a737-81cfac0ab0ab",
   "metadata": {},
   "outputs": [],
   "source": [
    "import pandas as pd\n",
    "from bs4 import BeautifulSoup\n",
    "import requests\n",
    "from tqdm import tqdm\n",
    "from datetime import datetime\n",
    "from datetime import timedelta\n",
    "import warnings\n",
    "import re\n",
    "warnings.filterwarnings(\"ignore\")"
   ]
  },
  {
   "cell_type": "code",
   "execution_count": 2,
   "id": "95613f53-8e4d-4c73-9a26-6d456ea70439",
   "metadata": {},
   "outputs": [],
   "source": [
    "links = open(\"links1.txt\", \"r\")\n",
    "file_content = links.read()\n",
    "link_list = file_content.split(\"\\n\")\n",
    "links.close()\n"
   ]
  },
  {
   "cell_type": "code",
   "execution_count": 3,
   "id": "306e91d3-d942-4fe3-8554-c52b67cb9003",
   "metadata": {
    "tags": []
   },
   "outputs": [
    {
     "data": {
      "text/plain": [
       "''"
      ]
     },
     "execution_count": 3,
     "metadata": {},
     "output_type": "execute_result"
    }
   ],
   "source": [
    "link_list.pop()"
   ]
  },
  {
   "cell_type": "code",
   "execution_count": 4,
   "id": "87cd5ce7-7c17-4b57-99ad-ce87ac609c80",
   "metadata": {},
   "outputs": [],
   "source": [
    "def trova_titoli(soup):\n",
    "    titolo=soup.find(itemprop=\"name\")\n",
    "    if titolo != None:\n",
    "        return(titolo['content'])\n",
    "    else:\n",
    "        return('NA')"
   ]
  },
  {
   "cell_type": "code",
   "execution_count": 5,
   "id": "2cebf87d-cb59-42f5-819d-e61dc05dd622",
   "metadata": {},
   "outputs": [],
   "source": [
    "def trova_durata(soup):\n",
    "    durata=soup.find(itemprop=\"duration\")\n",
    "    if durata != None:\n",
    "        raw_time=durata['content'][2:]\n",
    "        raw_time=raw_time.replace('M','-')\n",
    "        raw_time=raw_time.replace('S','')\n",
    "        m,s=raw_time.split('-')\n",
    "        duration=int(m)*60+int(s)\n",
    "        return(duration)\n",
    "    else:\n",
    "        return('NA')"
   ]
  },
  {
   "cell_type": "code",
   "execution_count": 6,
   "id": "dc96b15d-4f09-438e-a9f3-d3c978d729d1",
   "metadata": {},
   "outputs": [],
   "source": [
    "def trova_genere(soup):\n",
    "    genere=soup.find(itemprop=\"genre\")\n",
    "    if genere != None:\n",
    "        return(genere['content'])\n",
    "    else:\n",
    "        return('NA')"
   ]
  },
  {
   "cell_type": "code",
   "execution_count": 7,
   "id": "f23d2556-646d-4ddb-8a50-41c8ac9180bb",
   "metadata": {},
   "outputs": [],
   "source": [
    "def trova_views(soup):\n",
    "    views=soup.find(itemprop=\"interactionCount\")\n",
    "    if views != None:\n",
    "        return(views['content'])\n",
    "    else:\n",
    "        return('NA')"
   ]
  },
  {
   "cell_type": "code",
   "execution_count": 8,
   "id": "ad66904a-00ee-4931-93ac-7cbf30f53051",
   "metadata": {},
   "outputs": [],
   "source": [
    "def trova_FF(soup):\n",
    "    FF=soup.find(itemprop=\"isFamilyFriendly\")\n",
    "    if FF != None:\n",
    "        return(FF['content'])\n",
    "    else:\n",
    "        return('NA')"
   ]
  },
  {
   "cell_type": "code",
   "execution_count": 9,
   "id": "185f8465-17b3-4da3-8c17-eb858786022c",
   "metadata": {},
   "outputs": [],
   "source": [
    "def trova_Paid(soup):\n",
    "    paid=soup.find(itemprop=\"paid\")\n",
    "    if paid != None:\n",
    "        return(paid['content'])\n",
    "    else:\n",
    "        return('NA')"
   ]
  },
  {
   "cell_type": "code",
   "execution_count": 10,
   "id": "9024929d-09f2-417e-b40a-ba7e541c49de",
   "metadata": {},
   "outputs": [],
   "source": [
    "def trova_DataPubblicazione(soup):\n",
    "    publ=soup.find(itemprop=\"datePublished\")\n",
    "    if publ != None:\n",
    "        return(publ['content'])\n",
    "    else:\n",
    "        return('NA')"
   ]
  },
  {
   "cell_type": "code",
   "execution_count": 11,
   "id": "fe12a973-145f-4bd6-84c1-2f7adeb531f5",
   "metadata": {},
   "outputs": [],
   "source": [
    "def trova_commenti(soup):\n",
    "  web_page = str(soup.body)\n",
    "  search_result = re.findall(re.compile('\"commentCount\":{\"simpleText\":\"[\\d.]+'), web_page)\n",
    "  if len(search_result) == 0:\n",
    "    n_comments = 0\n",
    "  else:\n",
    "    n_comments = int(search_result[0][30:].replace('.', ''))\n",
    "  return n_comments"
   ]
  },
  {
   "cell_type": "code",
   "execution_count": 12,
   "id": "efbecf74-7ac6-45bd-a773-f3949f3d2cfa",
   "metadata": {},
   "outputs": [],
   "source": [
    "# per ora l'output è una stringa, ad esempio: 3,5 milioni\n",
    "# dopo quando abbiamo raccolto i dati vedremo come convertire le stringhe a seconda dei casi che ci saranno\n",
    "def trova_iscritti(soup):\n",
    "  web_page = str(soup.body)\n",
    "  search_result = re.findall(re.compile('\"subscriberCountText\":{\"accessibility\":{\"accessibilityData\":{\"label\":\"[\\d.]+.+ iscritti\"}}'), \n",
    "                             web_page)\n",
    "  if len(search_result) == 0:\n",
    "    subs = 0\n",
    "    return subs\n",
    "  else:\n",
    "    subs = search_result[0][70:-3].removesuffix(' iscritti').replace('.', '')\n",
    "    if subs.isnumeric():\n",
    "      return int(subs)\n",
    "    else:\n",
    "      subs = int(subs.removesuffix(' milioni di').replace(',', ''))\n",
    "      subs = int(subs * 10e6)\n",
    "    \n",
    "    return subs"
   ]
  },
  {
   "cell_type": "code",
   "execution_count": 13,
   "id": "ef0a80f2-098b-4806-8caa-bfef3916b82a",
   "metadata": {},
   "outputs": [],
   "source": [
    "def trova_like(soup):\n",
    "  web_page = str(soup.body)\n",
    "  search_result = re.findall(re.compile('Mi piace\"}},\"simpleText\":\"[\\d.]+'), web_page)\n",
    "  if len(search_result) == 0:\n",
    "    likes = 0\n",
    "  else:\n",
    "    likes = int(search_result[0][26:].replace('.', ''))\n",
    "  return likes"
   ]
  },
  {
   "cell_type": "code",
   "execution_count": 14,
   "id": "d071798c-776c-45b2-a61a-5136b6cb0e37",
   "metadata": {
    "tags": []
   },
   "outputs": [
    {
     "name": "stderr",
     "output_type": "stream",
     "text": [
      "100%|███████████████████████████████████████████| 50/50 [22:17<00:00, 26.75s/it]\n"
     ]
    }
   ],
   "source": [
    "#write to file\n",
    "file=open('dataset.csv','w')\n",
    "file.write('titolo, genere, durata, views, n_like, n_comments, FF, paid, publ\\n')\n",
    "\n",
    "for link in tqdm(link_list[:50]): #limite sui primi due per fare una prova\n",
    "    headers = {\"User-Agent\": \"Mozilla/5.0 (X11; CrOS x86_64 12871.102.0) AppleWebKit/537.36 (KHTML, like Gecko) Chrome/81.0.4044.141 Safari/537.36\"}\n",
    "    connection=requests.get(link, verify=False, stream=True, headers=headers)\n",
    "    if connection.status_code==200:\n",
    "        soup = BeautifulSoup(connection.text,'html.parser')\n",
    "        \n",
    "        titolo     = trova_titoli(soup)\n",
    "        durata     = trova_durata(soup)\n",
    "        genere     = trova_genere(soup)\n",
    "        views      = trova_views(soup)\n",
    "        n_comments = trova_commenti(soup)\n",
    "        iscritti   = trova_iscritti(soup)\n",
    "        n_like     = trova_like(soup)\n",
    "        FF         = trova_FF(soup)\n",
    "        paid       = trova_Paid(soup)\n",
    "        publ       = trova_DataPubblicazione(soup)\n",
    "        \n",
    "        file.write(('{}, {}, {}, {}, {}, {}, {}, {}, {}\\n').format(titolo, genere, durata, views, n_like, n_comments, FF, paid, publ))\n",
    "    else:\n",
    "        print(\"couldn't establish connection\")\n",
    "file.close()"
   ]
  },
  {
   "cell_type": "code",
   "execution_count": null,
   "id": "800a981c-9331-4ace-ad12-53093c21afe7",
   "metadata": {},
   "outputs": [],
   "source": []
  }
 ],
 "metadata": {
  "kernelspec": {
   "display_name": "Python 3 (ipykernel)",
   "language": "python",
   "name": "python3"
  },
  "language_info": {
   "codemirror_mode": {
    "name": "ipython",
    "version": 3
   },
   "file_extension": ".py",
   "mimetype": "text/x-python",
   "name": "python",
   "nbconvert_exporter": "python",
   "pygments_lexer": "ipython3",
   "version": "3.9.12"
  }
 },
 "nbformat": 4,
 "nbformat_minor": 5
}
